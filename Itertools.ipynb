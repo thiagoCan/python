{
 "cells": [
  {
   "cell_type": "code",
   "execution_count": 12,
   "id": "e5a3e9d9",
   "metadata": {},
   "outputs": [],
   "source": [
    "from itertools import product, permutations, combinations, groupby"
   ]
  },
  {
   "cell_type": "code",
   "execution_count": 4,
   "id": "9e708628",
   "metadata": {},
   "outputs": [
    {
     "data": {
      "text/plain": [
       "[(1, 3), (1, 4), (2, 3), (2, 4)]"
      ]
     },
     "execution_count": 4,
     "metadata": {},
     "output_type": "execute_result"
    }
   ],
   "source": [
    "a = [1, 2]\n",
    "b = [3, 4]\n",
    "\n",
    "prod = product(a, b)\n",
    "list(prod)"
   ]
  },
  {
   "cell_type": "code",
   "execution_count": 6,
   "id": "7b95fa2f",
   "metadata": {},
   "outputs": [
    {
     "data": {
      "text/plain": [
       "[(1, 3, 1, 3),\n",
       " (1, 3, 1, 4),\n",
       " (1, 3, 2, 3),\n",
       " (1, 3, 2, 4),\n",
       " (1, 4, 1, 3),\n",
       " (1, 4, 1, 4),\n",
       " (1, 4, 2, 3),\n",
       " (1, 4, 2, 4),\n",
       " (2, 3, 1, 3),\n",
       " (2, 3, 1, 4),\n",
       " (2, 3, 2, 3),\n",
       " (2, 3, 2, 4),\n",
       " (2, 4, 1, 3),\n",
       " (2, 4, 1, 4),\n",
       " (2, 4, 2, 3),\n",
       " (2, 4, 2, 4)]"
      ]
     },
     "execution_count": 6,
     "metadata": {},
     "output_type": "execute_result"
    }
   ],
   "source": [
    "prod = product(a, b, repeat=2)\n",
    "list(prod)"
   ]
  },
  {
   "cell_type": "code",
   "execution_count": 9,
   "id": "ce1a8464",
   "metadata": {},
   "outputs": [
    {
     "data": {
      "text/plain": [
       "[(1, 2, 3), (1, 3, 2), (2, 1, 3), (2, 3, 1), (3, 1, 2), (3, 2, 1)]"
      ]
     },
     "execution_count": 9,
     "metadata": {},
     "output_type": "execute_result"
    }
   ],
   "source": [
    "c = [1, 2, 3]\n",
    "perm = permutations(c)\n",
    "list(perm)"
   ]
  },
  {
   "cell_type": "code",
   "execution_count": 11,
   "id": "59bea8bb",
   "metadata": {},
   "outputs": [
    {
     "data": {
      "text/plain": [
       "[(1, 2), (1, 3), (1, 4), (2, 3), (2, 4), (3, 4)]"
      ]
     },
     "execution_count": 11,
     "metadata": {},
     "output_type": "execute_result"
    }
   ],
   "source": [
    "d = [1, 2, 3, 4]\n",
    "comb = combinations(d, 2)\n",
    "list(comb)"
   ]
  },
  {
   "cell_type": "code",
   "execution_count": 13,
   "id": "a8dec4bd",
   "metadata": {},
   "outputs": [],
   "source": [
    "def smaller_than_3(x):\n",
    "    return x < 3"
   ]
  },
  {
   "cell_type": "code",
   "execution_count": 24,
   "id": "2cb25fbf",
   "metadata": {},
   "outputs": [],
   "source": [
    "group_obj = groupby(d, key=smaller_than_3)"
   ]
  },
  {
   "cell_type": "code",
   "execution_count": 25,
   "id": "30a7a0ed",
   "metadata": {},
   "outputs": [
    {
     "name": "stdout",
     "output_type": "stream",
     "text": [
      "True [1, 2]\n",
      "False [3, 4]\n"
     ]
    }
   ],
   "source": [
    "for key, value in group_obj:\n",
    "    print(key, list(value))"
   ]
  },
  {
   "cell_type": "code",
   "execution_count": 26,
   "id": "ee6e18df",
   "metadata": {},
   "outputs": [
    {
     "name": "stdout",
     "output_type": "stream",
     "text": [
      "25 [{'name': 'Tim', 'age': 25}, {'name': 'Dan', 'age': 25}]\n",
      "27 [{'name': 'Lisa', 'age': 27}]\n",
      "28 [{'name': 'Claire', 'age': 28}]\n"
     ]
    }
   ],
   "source": [
    "people = [\n",
    "    {\n",
    "        'name': 'Tim',\n",
    "        'age': 25\n",
    "    },\n",
    "    {\n",
    "        'name': 'Dan',\n",
    "        'age': 25\n",
    "    },\n",
    "    {\n",
    "        'name': 'Lisa',\n",
    "        'age': 27\n",
    "    },\n",
    "    {\n",
    "        'name': 'Claire',\n",
    "        'age': 28\n",
    "    }\n",
    "]\n",
    "\n",
    "g = groupby(people, key=lambda x: x['age'])\n",
    "\n",
    "for key, value in g:\n",
    "    print(key, list(value))"
   ]
  },
  {
   "cell_type": "code",
   "execution_count": null,
   "id": "a9f9f856",
   "metadata": {},
   "outputs": [],
   "source": []
  }
 ],
 "metadata": {
  "kernelspec": {
   "display_name": "Python 3 (ipykernel)",
   "language": "python",
   "name": "python3"
  },
  "language_info": {
   "codemirror_mode": {
    "name": "ipython",
    "version": 3
   },
   "file_extension": ".py",
   "mimetype": "text/x-python",
   "name": "python",
   "nbconvert_exporter": "python",
   "pygments_lexer": "ipython3",
   "version": "3.10.2"
  }
 },
 "nbformat": 4,
 "nbformat_minor": 5
}
