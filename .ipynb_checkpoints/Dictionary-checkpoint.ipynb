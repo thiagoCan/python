{
 "cells": [
  {
   "cell_type": "markdown",
   "id": "4b6bb648",
   "metadata": {},
   "source": [
    "# dictionary works as a map by using keys and values\n",
    "to each key inputed its given value is returned."
   ]
  },
  {
   "cell_type": "code",
   "execution_count": 1,
   "id": "f65ceb1a",
   "metadata": {},
   "outputs": [],
   "source": [
    "mydict = {\n",
    "    'name': 'Max',\n",
    "    'age': 28,\n",
    "    'city': 'New York'\n",
    "}"
   ]
  },
  {
   "cell_type": "code",
   "execution_count": 2,
   "id": "e669dbd8",
   "metadata": {},
   "outputs": [
    {
     "data": {
      "text/plain": [
       "28"
      ]
     },
     "execution_count": 2,
     "metadata": {},
     "output_type": "execute_result"
    }
   ],
   "source": [
    "mydict['age']"
   ]
  },
  {
   "cell_type": "markdown",
   "id": "aab5d4c7",
   "metadata": {},
   "source": [
    "# dictionaries are mutable"
   ]
  },
  {
   "cell_type": "code",
   "execution_count": 5,
   "id": "8b338598",
   "metadata": {},
   "outputs": [
    {
     "data": {
      "text/plain": [
       "{'name': 'Thiago', 'age': 28, 'city': 'New York', 'email': 'email@mymail.com'}"
      ]
     },
     "execution_count": 5,
     "metadata": {},
     "output_type": "execute_result"
    }
   ],
   "source": [
    "mydict['email'] = 'email@mymail.com'\n",
    "mydict['name'] = 'Thiago'\n",
    "mydict"
   ]
  },
  {
   "cell_type": "code",
   "execution_count": 6,
   "id": "ac3ff663",
   "metadata": {},
   "outputs": [
    {
     "data": {
      "text/plain": [
       "('email', 'email@mymail.com')"
      ]
     },
     "execution_count": 6,
     "metadata": {},
     "output_type": "execute_result"
    }
   ],
   "source": [
    "mydict.popitem()"
   ]
  },
  {
   "cell_type": "code",
   "execution_count": 7,
   "id": "989011e9",
   "metadata": {},
   "outputs": [
    {
     "data": {
      "text/plain": [
       "{'name': 'Thiago', 'age': 28, 'city': 'New York'}"
      ]
     },
     "execution_count": 7,
     "metadata": {},
     "output_type": "execute_result"
    }
   ],
   "source": [
    "mydict"
   ]
  },
  {
   "cell_type": "code",
   "execution_count": 8,
   "id": "0055ffba",
   "metadata": {},
   "outputs": [
    {
     "name": "stdout",
     "output_type": "stream",
     "text": [
      "Thiago\n",
      "28\n",
      "New York\n"
     ]
    }
   ],
   "source": [
    "for key in mydict:\n",
    "    print(mydict[key])"
   ]
  },
  {
   "cell_type": "code",
   "execution_count": 9,
   "id": "f5652d01",
   "metadata": {},
   "outputs": [
    {
     "data": {
      "text/plain": [
       "40.5"
      ]
     },
     "execution_count": 9,
     "metadata": {},
     "output_type": "execute_result"
    }
   ],
   "source": [
    "rec = {\n",
    "    'name': {'first': 'Bob', 'last': 'Smith'},\n",
    "    'job': ['dev', 'mgr'],\n",
    "    'age': 40.5\n",
    "}\n",
    "\n",
    "rec['age']"
   ]
  },
  {
   "cell_type": "code",
   "execution_count": 10,
   "id": "3bc16ae2",
   "metadata": {},
   "outputs": [
    {
     "data": {
      "text/plain": [
       "'Smith'"
      ]
     },
     "execution_count": 10,
     "metadata": {},
     "output_type": "execute_result"
    }
   ],
   "source": [
    "rec['name']['last']"
   ]
  },
  {
   "cell_type": "code",
   "execution_count": null,
   "id": "ee16eb34",
   "metadata": {},
   "outputs": [],
   "source": []
  }
 ],
 "metadata": {
  "kernelspec": {
   "display_name": "Python 3 (ipykernel)",
   "language": "python",
   "name": "python3"
  },
  "language_info": {
   "codemirror_mode": {
    "name": "ipython",
    "version": 3
   },
   "file_extension": ".py",
   "mimetype": "text/x-python",
   "name": "python",
   "nbconvert_exporter": "python",
   "pygments_lexer": "ipython3",
   "version": "3.10.2"
  }
 },
 "nbformat": 4,
 "nbformat_minor": 5
}
