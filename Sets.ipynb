{
 "cells": [
  {
   "cell_type": "markdown",
   "id": "401166cf",
   "metadata": {},
   "source": [
    "# Set doesn't allow duplicated, so it'll only print a single version of the duplicates\n",
    "\n",
    "An item appears only once, no matter how many times it's typed in the set"
   ]
  },
  {
   "cell_type": "code",
   "execution_count": 1,
   "id": "fcb360e1",
   "metadata": {},
   "outputs": [
    {
     "data": {
      "text/plain": [
       "{1, 2, 3}"
      ]
     },
     "execution_count": 1,
     "metadata": {},
     "output_type": "execute_result"
    }
   ],
   "source": [
    "myset = {1, 2, 3, 1, 2, 3}\n",
    "myset"
   ]
  },
  {
   "cell_type": "markdown",
   "id": "c698acc3",
   "metadata": {},
   "source": [
    "Sets are unordered"
   ]
  },
  {
   "cell_type": "code",
   "execution_count": 3,
   "id": "4fea09db",
   "metadata": {},
   "outputs": [
    {
     "data": {
      "text/plain": [
       "{'e', 'h', 'l', 'o', 'w'}"
      ]
     },
     "execution_count": 3,
     "metadata": {},
     "output_type": "execute_result"
    }
   ],
   "source": [
    "myset = set('hellow')\n",
    "myset"
   ]
  },
  {
   "cell_type": "markdown",
   "id": "682679ed",
   "metadata": {},
   "source": [
    "they are mutable"
   ]
  },
  {
   "cell_type": "code",
   "execution_count": 11,
   "id": "7c6f84eb",
   "metadata": {},
   "outputs": [
    {
     "name": "stdout",
     "output_type": "stream",
     "text": [
      "1\n"
     ]
    },
    {
     "data": {
      "text/plain": [
       "{2, 3}"
      ]
     },
     "execution_count": 11,
     "metadata": {},
     "output_type": "execute_result"
    }
   ],
   "source": [
    "myset = set()\n",
    "\n",
    "myset.add(1)\n",
    "myset.add(2)\n",
    "myset.add(3)\n",
    "\n",
    "#myset.discard(3)\n",
    "#myset.clear()\n",
    "\n",
    "print(myset.pop())\n",
    "myset"
   ]
  },
  {
   "cell_type": "markdown",
   "id": "2609f571",
   "metadata": {},
   "source": [
    "# union and intersection"
   ]
  },
  {
   "cell_type": "code",
   "execution_count": 13,
   "id": "ea6af2a7",
   "metadata": {},
   "outputs": [],
   "source": [
    "odds = {1, 3, 5, 7, 9}\n",
    "evens = {0, 2, 4, 6, 8}\n",
    "primes = {1, 3, 5, 7}"
   ]
  },
  {
   "cell_type": "code",
   "execution_count": 27,
   "id": "9c4ea1e6",
   "metadata": {},
   "outputs": [
    {
     "data": {
      "text/plain": [
       "{0, 1, 2, 3, 4, 5, 6, 7, 8, 9}"
      ]
     },
     "execution_count": 27,
     "metadata": {},
     "output_type": "execute_result"
    }
   ],
   "source": [
    "#u = odds.union(evens)\n",
    "odds | evens"
   ]
  },
  {
   "cell_type": "code",
   "execution_count": 28,
   "id": "ceb7523e",
   "metadata": {},
   "outputs": [
    {
     "data": {
      "text/plain": [
       "{1, 3, 5, 7}"
      ]
     },
     "execution_count": 28,
     "metadata": {},
     "output_type": "execute_result"
    }
   ],
   "source": [
    "#i = odds.intersection(primes)\n",
    "odds & primes"
   ]
  },
  {
   "cell_type": "code",
   "execution_count": 18,
   "id": "2a016722",
   "metadata": {},
   "outputs": [],
   "source": [
    "setA = {1, 2, 3, 4, 5, 6, 7, 8, 9}\n",
    "setB = {1, 2, 3, 10, 11, 12}"
   ]
  },
  {
   "cell_type": "code",
   "execution_count": 29,
   "id": "7c40427c",
   "metadata": {},
   "outputs": [
    {
     "data": {
      "text/plain": [
       "{4, 5, 6, 7, 8, 9}"
      ]
     },
     "execution_count": 29,
     "metadata": {},
     "output_type": "execute_result"
    }
   ],
   "source": [
    "#diff = setA.difference(setB)\n",
    "setA - setB"
   ]
  },
  {
   "cell_type": "code",
   "execution_count": 21,
   "id": "fa33742c",
   "metadata": {},
   "outputs": [
    {
     "data": {
      "text/plain": [
       "{10, 11, 12}"
      ]
     },
     "execution_count": 21,
     "metadata": {},
     "output_type": "execute_result"
    }
   ],
   "source": [
    "diff = setB.difference(setA)\n",
    "diff"
   ]
  },
  {
   "cell_type": "code",
   "execution_count": 22,
   "id": "9a18d3b0",
   "metadata": {},
   "outputs": [
    {
     "data": {
      "text/plain": [
       "{4, 5, 6, 7, 8, 9, 10, 11, 12}"
      ]
     },
     "execution_count": 22,
     "metadata": {},
     "output_type": "execute_result"
    }
   ],
   "source": [
    "diff = setA.symmetric_difference(setB)\n",
    "diff"
   ]
  },
  {
   "cell_type": "code",
   "execution_count": 23,
   "id": "d5101135",
   "metadata": {},
   "outputs": [
    {
     "data": {
      "text/plain": [
       "{1, 2, 3, 4, 5, 6, 7, 8, 9, 10, 11, 12}"
      ]
     },
     "execution_count": 23,
     "metadata": {},
     "output_type": "execute_result"
    }
   ],
   "source": [
    "setA.update(setB)\n",
    "setA"
   ]
  }
 ],
 "metadata": {
  "kernelspec": {
   "display_name": "Python 3 (ipykernel)",
   "language": "python",
   "name": "python3"
  },
  "language_info": {
   "codemirror_mode": {
    "name": "ipython",
    "version": 3
   },
   "file_extension": ".py",
   "mimetype": "text/x-python",
   "name": "python",
   "nbconvert_exporter": "python",
   "pygments_lexer": "ipython3",
   "version": "3.10.2"
  }
 },
 "nbformat": 4,
 "nbformat_minor": 5
}
