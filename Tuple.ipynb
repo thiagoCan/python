{
 "cells": [
  {
   "cell_type": "code",
   "execution_count": 2,
   "id": "6e853ed9",
   "metadata": {},
   "outputs": [
    {
     "data": {
      "text/plain": [
       "('Max', 28, 'Boston')"
      ]
     },
     "execution_count": 2,
     "metadata": {},
     "output_type": "execute_result"
    }
   ],
   "source": [
    "mytuple = ('Max', 28, 'Boston')\n",
    "#mytuple = 'Max', 28, 'Boston'\n",
    "mytuple"
   ]
  },
  {
   "cell_type": "markdown",
   "id": "85bd364a",
   "metadata": {},
   "source": [
    "# immutability  means that the tuple cannot grow or shrink"
   ]
  },
  {
   "cell_type": "code",
   "execution_count": 5,
   "id": "54391d9c",
   "metadata": {},
   "outputs": [
    {
     "ename": "TypeError",
     "evalue": "'tuple' object does not support item assignment",
     "output_type": "error",
     "traceback": [
      "\u001b[1;31m---------------------------------------------------------------------------\u001b[0m",
      "\u001b[1;31mTypeError\u001b[0m                                 Traceback (most recent call last)",
      "\u001b[1;32m~\\AppData\\Local\\Temp/ipykernel_9956/2696399705.py\u001b[0m in \u001b[0;36m<module>\u001b[1;34m\u001b[0m\n\u001b[1;32m----> 1\u001b[1;33m \u001b[0mmytuple\u001b[0m\u001b[1;33m[\u001b[0m\u001b[1;36m0\u001b[0m\u001b[1;33m]\u001b[0m \u001b[1;33m=\u001b[0m \u001b[1;34m'Tim'\u001b[0m\u001b[1;33m\u001b[0m\u001b[1;33m\u001b[0m\u001b[0m\n\u001b[0m",
      "\u001b[1;31mTypeError\u001b[0m: 'tuple' object does not support item assignment"
     ]
    }
   ],
   "source": [
    "#This error occurs, because tuples are immutable and you can't overwrite a position in a tuble\n",
    "mytuple[0] = 'Tim'"
   ]
  },
  {
   "cell_type": "code",
   "execution_count": 4,
   "id": "b69d99ab",
   "metadata": {},
   "outputs": [
    {
     "data": {
      "text/plain": [
       "'Boston'"
      ]
     },
     "execution_count": 4,
     "metadata": {},
     "output_type": "execute_result"
    }
   ],
   "source": [
    "item = mytuple[-1]\n",
    "#item = mytuple[0]\n",
    "item"
   ]
  },
  {
   "cell_type": "code",
   "execution_count": 8,
   "id": "cf9949c9",
   "metadata": {},
   "outputs": [
    {
     "name": "stdout",
     "output_type": "stream",
     "text": [
      "Max\n",
      "28\n",
      "Boston\n",
      "===============\n",
      "yes\n"
     ]
    }
   ],
   "source": [
    "for i in mytuple:\n",
    "    print(i)\n",
    "    \n",
    "print('===============')\n",
    "\n",
    "if 'Max' in mytuple:\n",
    "    print('yes')\n",
    "else:\n",
    "    print('no')"
   ]
  },
  {
   "cell_type": "code",
   "execution_count": 14,
   "id": "54759035",
   "metadata": {},
   "outputs": [
    {
     "data": {
      "text/plain": [
       "2"
      ]
     },
     "execution_count": 14,
     "metadata": {},
     "output_type": "execute_result"
    }
   ],
   "source": [
    "#tuples have two callable methods\n",
    "my_tuple = ('a', 'p', 'p', 'l','e')\n",
    "\n",
    "my_tuple.index('p')\n",
    "my_tuple.count('p')"
   ]
  },
  {
   "cell_type": "code",
   "execution_count": 15,
   "id": "07cbde7b",
   "metadata": {},
   "outputs": [
    {
     "data": {
      "text/plain": [
       "22"
      ]
     },
     "execution_count": 15,
     "metadata": {},
     "output_type": "execute_result"
    }
   ],
   "source": [
    "#tuples support mixed types\n",
    "t = ('spam', 3.0, [11, 22, 33])\n",
    "\n",
    "t[2][1]"
   ]
  },
  {
   "cell_type": "code",
   "execution_count": 19,
   "id": "2ec444ce",
   "metadata": {},
   "outputs": [
    {
     "data": {
      "text/plain": [
       "('a', 'p', 'e')"
      ]
     },
     "execution_count": 19,
     "metadata": {},
     "output_type": "execute_result"
    }
   ],
   "source": [
    "my_tuple[::-1]\n",
    "my_tuple[::2]"
   ]
  },
  {
   "cell_type": "code",
   "execution_count": 20,
   "id": "789d11cc",
   "metadata": {},
   "outputs": [
    {
     "name": "stdout",
     "output_type": "stream",
     "text": [
      "Max 28 Boston\n"
     ]
    }
   ],
   "source": [
    "name, age, city = mytuple\n",
    "print(name, age, city)"
   ]
  },
  {
   "cell_type": "code",
   "execution_count": null,
   "id": "ef498dad",
   "metadata": {},
   "outputs": [],
   "source": []
  }
 ],
 "metadata": {
  "kernelspec": {
   "display_name": "Python 3 (ipykernel)",
   "language": "python",
   "name": "python3"
  },
  "language_info": {
   "codemirror_mode": {
    "name": "ipython",
    "version": 3
   },
   "file_extension": ".py",
   "mimetype": "text/x-python",
   "name": "python",
   "nbconvert_exporter": "python",
   "pygments_lexer": "ipython3",
   "version": "3.10.2"
  }
 },
 "nbformat": 4,
 "nbformat_minor": 5
}
